{
 "cells": [
  {
   "cell_type": "markdown",
   "metadata": {},
   "source": [
    "## Отчет по лабораторной работе № 3\n",
    "\n",
    "Тарасенко Александр, 4 курс 12 группа\n"
   ]
  },
  {
   "cell_type": "markdown",
   "metadata": {},
   "source": [
    "#### Задание 1. Для заданного M (табл. 4) определить значения a и b, которые позволяют построить эллиптическую группу EM(a, b).\n"
   ]
  },
  {
   "cell_type": "markdown",
   "metadata": {},
   "source": [
    "Задание параметров: \n",
    "\n",
    "M = 59 \n",
    "\n",
    "a = 1, b = 0"
   ]
  },
  {
   "cell_type": "markdown",
   "metadata": {},
   "source": [
    "#### Задание 2. Для найденных в задании 1 параметров сгенерировать все элементы эллиптической группы EM(a, b)."
   ]
  },
  {
   "cell_type": "code",
   "execution_count": 1,
   "metadata": {},
   "outputs": [],
   "source": [
    "import hashlib\n",
    "from sympy import randprime\n",
    "import random\n",
    "import numpy as np"
   ]
  },
  {
   "cell_type": "code",
   "execution_count": 2,
   "metadata": {},
   "outputs": [],
   "source": [
    "def modular_sqrt(a, p):\n",
    "    if legendre_symbol(a, p) != 1:\n",
    "        return 0\n",
    "    elif a == 0:\n",
    "        return 0\n",
    "    elif p == 2:\n",
    "        return 0\n",
    "    elif p % 4 == 3:\n",
    "        return pow(a, (p + 1) // 4, p)\n",
    "\n",
    "    s = p - 1\n",
    "    e = 0\n",
    "    while s % 2 == 0:\n",
    "        s = s // 2\n",
    "        e += 1\n",
    "\n",
    "    n = 2\n",
    "    while legendre_symbol(n, p) != -1:\n",
    "        n += 1\n",
    "\n",
    "    x = pow(a, (s + 1) // 2, p)\n",
    "    b = pow(a, s, p)\n",
    "    g = pow(n, s, p)\n",
    "    r = e\n",
    "\n",
    "    while True:\n",
    "        t = b\n",
    "        m = 0\n",
    "        for m in range(r):\n",
    "            if t == 1:\n",
    "                break\n",
    "            t = pow(t, 2, p)\n",
    "\n",
    "        if m == 0:\n",
    "            return x\n",
    "\n",
    "        gs = pow(g, 2 ** (r - m - 1), p)\n",
    "        g = (gs * gs) % p\n",
    "        x = (x * gs) % p\n",
    "        b = (b * g) % p\n",
    "        r = m\n",
    "\n",
    "\n",
    "def legendre_symbol(a, p):\n",
    "    ls = pow(a, (p - 1) // 2, p)\n",
    "    return -1 if ls == p - 1 else ls"
   ]
  },
  {
   "cell_type": "code",
   "execution_count": 3,
   "metadata": {},
   "outputs": [],
   "source": [
    "M = 59\n",
    "a, b = 1, 0"
   ]
  },
  {
   "cell_type": "code",
   "execution_count": 4,
   "metadata": {},
   "outputs": [],
   "source": [
    "def makeEM(a, b, M):\n",
    "    for x in range(0, M):\n",
    "        y = modular_sqrt((x**3 + a*x + b)%M, M)\n",
    "        if y > 0:\n",
    "            yield x, y"
   ]
  },
  {
   "cell_type": "code",
   "execution_count": 5,
   "metadata": {},
   "outputs": [],
   "source": [
    "elliptic_group = makeEM(0,1,47)"
   ]
  },
  {
   "cell_type": "markdown",
   "metadata": {},
   "source": [
    "Вывод списка элементов эллиптической группы."
   ]
  },
  {
   "cell_type": "code",
   "execution_count": 6,
   "metadata": {
    "scrolled": false
   },
   "outputs": [
    {
     "data": {
      "text/plain": [
       "[(0, 1),\n",
       " (1, 7),\n",
       " (2, 3),\n",
       " (3, 34),\n",
       " (4, 21),\n",
       " (5, 28),\n",
       " (9, 42),\n",
       " (10, 25),\n",
       " (11, 4),\n",
       " (12, 32),\n",
       " (13, 6),\n",
       " (16, 14),\n",
       " (21, 12),\n",
       " (22, 36),\n",
       " (23, 18),\n",
       " (24, 17),\n",
       " (28, 2),\n",
       " (35, 24),\n",
       " (38, 27),\n",
       " (39, 37),\n",
       " (40, 9),\n",
       " (42, 8),\n",
       " (44, 16)]"
      ]
     },
     "execution_count": 6,
     "metadata": {},
     "output_type": "execute_result"
    }
   ],
   "source": [
    "[*elliptic_group]"
   ]
  },
  {
   "cell_type": "markdown",
   "metadata": {},
   "source": [
    "#### Задание 3. Реализовать алгоритм обмена ключами для эллиптической группы EM(a,b)\n"
   ]
  },
  {
   "cell_type": "markdown",
   "metadata": {},
   "source": [
    "Задание констант (Сообщение - \"Hi, Alexashka\", G - точка из группы EM(0, 1), q - порядок точки)"
   ]
  },
  {
   "cell_type": "code",
   "execution_count": 7,
   "metadata": {},
   "outputs": [],
   "source": [
    "message = b'Hi, Alexashka'\n",
    "G = np.array([2,3])\n",
    "q = randprime(M*2, M*3)\n"
   ]
  },
  {
   "cell_type": "code",
   "execution_count": 8,
   "metadata": {},
   "outputs": [],
   "source": [
    "def generate_key(G, M):\n",
    "    secret_key = random.randint(M//2, M)\n",
    "    public_key = secret_key*G\n",
    "    return public_key, secret_key"
   ]
  },
  {
   "cell_type": "code",
   "execution_count": 9,
   "metadata": {},
   "outputs": [],
   "source": [
    "def generate_common_key(self_secret_key, other_public_key):\n",
    "    \n",
    "    return self_secret_key * other_public_key"
   ]
  },
  {
   "cell_type": "markdown",
   "metadata": {},
   "source": [
    "Генерация открытых и секретных ключей с обеих сторон и проверка равенства сгенерированного с обеих сторон общего ключа"
   ]
  },
  {
   "cell_type": "code",
   "execution_count": 10,
   "metadata": {},
   "outputs": [],
   "source": [
    "a_public_key, a_secret_key = generate_key(G, M)\n",
    "b_public_key, b_secret_key = generate_key(G, M)\n",
    "\n",
    "\n",
    "assert generate_common_key(a_secret_key, b_public_key).all() == generate_common_key(b_secret_key, a_public_key).all(), 'Wrong common key'"
   ]
  },
  {
   "cell_type": "markdown",
   "metadata": {},
   "source": [
    "#### Задание 4. Разработать алгоритм цифровой подписи на основе эллиптической группы EM(a, b)"
   ]
  },
  {
   "cell_type": "code",
   "execution_count": 263,
   "metadata": {},
   "outputs": [],
   "source": [
    "def mod_inverse(a, m) : \n",
    "    m0 = m \n",
    "    y = 0\n",
    "    x = 1\n",
    "  \n",
    "    if (m == 1) : \n",
    "        return 0 \n",
    "    while (a > 1) : \n",
    "        q = a // m \n",
    "  \n",
    "        t = m \n",
    "        m = a % m \n",
    "        a = t \n",
    "        t = y \n",
    "        y = x - q * y \n",
    "        x = t \n",
    "\n",
    "    if (x < 0) : \n",
    "        x = x + m0 \n",
    "  \n",
    "    return x \n",
    "  \n",
    "  "
   ]
  },
  {
   "cell_type": "code",
   "execution_count": 264,
   "metadata": {},
   "outputs": [],
   "source": [
    "def gen_digital_signature(G, M, q, message, a_public_key, a_secret_key):\n",
    "    hash_message = int(hashlib.sha1(message).hexdigest(), 16)\n",
    "    r = 0\n",
    "    s = 0\n",
    "    while r == 0 or s==0:\n",
    "        k = randprime(1, q)\n",
    "        kG = k*G\n",
    "        r = kG[0]%q\n",
    "        \n",
    "        s = ((hash_message + a_secret_key)/k)%q\n",
    "    return r, s"
   ]
  },
  {
   "cell_type": "markdown",
   "metadata": {},
   "source": [
    "Генерация ЭЦП, представляющей собой элементы r и s"
   ]
  },
  {
   "cell_type": "code",
   "execution_count": 265,
   "metadata": {},
   "outputs": [],
   "source": [
    "r, s = gen_digital_signature(G, M, q, message, a_public_key, a_secret_key)"
   ]
  },
  {
   "cell_type": "code",
   "execution_count": 266,
   "metadata": {},
   "outputs": [
    {
     "data": {
      "text/plain": [
       "(134, 88.0)"
      ]
     },
     "execution_count": 266,
     "metadata": {},
     "output_type": "execute_result"
    }
   ],
   "source": [
    "r, s"
   ]
  },
  {
   "cell_type": "code",
   "execution_count": 267,
   "metadata": {},
   "outputs": [],
   "source": [
    "def check_digital_signature(G, M, q, message, r, s, a_public_key):\n",
    "    #w = (1/s)%q\n",
    "    w = mod_inverse(s, q)\n",
    "    hash_message = int(hashlib.sha1(message).hexdigest(), 16)\n",
    "    u1 = (hash_message*w) % q\n",
    "    u2 = (r*w) % q \n",
    "    x1, y1 = u1*G + u2*a_public_key\n",
    "    r1 = x1 % q\n",
    "    print(w)\n",
    "    print(r1)"
   ]
  }
 ],
 "metadata": {
  "kernelspec": {
   "display_name": "Python 3",
   "language": "python",
   "name": "python3"
  },
  "language_info": {
   "codemirror_mode": {
    "name": "ipython",
    "version": 3
   },
   "file_extension": ".py",
   "mimetype": "text/x-python",
   "name": "python",
   "nbconvert_exporter": "python",
   "pygments_lexer": "ipython3",
   "version": "3.8.3"
  }
 },
 "nbformat": 4,
 "nbformat_minor": 4
}
